{
  "nbformat": 4,
  "nbformat_minor": 0,
  "metadata": {
    "colab": {
      "name": "DATA_TIP.ipynb",
      "provenance": [],
      "authorship_tag": "ABX9TyP06EP0nfaHbDXoautGUOYY",
      "include_colab_link": true
    },
    "kernelspec": {
      "name": "python3",
      "display_name": "Python 3"
    },
    "language_info": {
      "name": "python"
    }
  },
  "cells": [
    {
      "cell_type": "markdown",
      "metadata": {
        "id": "view-in-github",
        "colab_type": "text"
      },
      "source": [
        "<a href=\"https://colab.research.google.com/github/blackgreenc/dev/blob/main/DATA_TIP.ipynb\" target=\"_parent\"><img src=\"https://colab.research.google.com/assets/colab-badge.svg\" alt=\"Open In Colab\"/></a>"
      ]
    },
    {
      "cell_type": "code",
      "metadata": {
        "id": "M5Y9Cu1MBmyN"
      },
      "source": [
        "# 주가 데이터를 쉽게 가져오는 방법\n",
        "\n",
        "# 야후파이낸스의 데이터를 간단하게 가져오는 방법으로 먼저, 라이브러리를 불러옵니다"
      ],
      "execution_count": 1,
      "outputs": []
    },
    {
      "cell_type": "code",
      "metadata": {
        "colab": {
          "base_uri": "https://localhost:8080/"
        },
        "id": "HTC8-9ScB6C4",
        "outputId": "de14501a-50c3-40f9-fd25-b53db23e996b"
      },
      "source": [
        "!pip install yfinance"
      ],
      "execution_count": 2,
      "outputs": [
        {
          "output_type": "stream",
          "name": "stdout",
          "text": [
            "Collecting yfinance\n",
            "  Downloading yfinance-0.1.63.tar.gz (26 kB)\n",
            "Requirement already satisfied: pandas>=0.24 in /usr/local/lib/python3.7/dist-packages (from yfinance) (1.1.5)\n",
            "Requirement already satisfied: numpy>=1.15 in /usr/local/lib/python3.7/dist-packages (from yfinance) (1.19.5)\n",
            "Requirement already satisfied: requests>=2.20 in /usr/local/lib/python3.7/dist-packages (from yfinance) (2.23.0)\n",
            "Requirement already satisfied: multitasking>=0.0.7 in /usr/local/lib/python3.7/dist-packages (from yfinance) (0.0.9)\n",
            "Collecting lxml>=4.5.1\n",
            "  Downloading lxml-4.6.3-cp37-cp37m-manylinux2014_x86_64.whl (6.3 MB)\n",
            "\u001b[K     |████████████████████████████████| 6.3 MB 7.9 MB/s \n",
            "\u001b[?25hRequirement already satisfied: pytz>=2017.2 in /usr/local/lib/python3.7/dist-packages (from pandas>=0.24->yfinance) (2018.9)\n",
            "Requirement already satisfied: python-dateutil>=2.7.3 in /usr/local/lib/python3.7/dist-packages (from pandas>=0.24->yfinance) (2.8.2)\n",
            "Requirement already satisfied: six>=1.5 in /usr/local/lib/python3.7/dist-packages (from python-dateutil>=2.7.3->pandas>=0.24->yfinance) (1.15.0)\n",
            "Requirement already satisfied: urllib3!=1.25.0,!=1.25.1,<1.26,>=1.21.1 in /usr/local/lib/python3.7/dist-packages (from requests>=2.20->yfinance) (1.24.3)\n",
            "Requirement already satisfied: chardet<4,>=3.0.2 in /usr/local/lib/python3.7/dist-packages (from requests>=2.20->yfinance) (3.0.4)\n",
            "Requirement already satisfied: idna<3,>=2.5 in /usr/local/lib/python3.7/dist-packages (from requests>=2.20->yfinance) (2.10)\n",
            "Requirement already satisfied: certifi>=2017.4.17 in /usr/local/lib/python3.7/dist-packages (from requests>=2.20->yfinance) (2021.5.30)\n",
            "Building wheels for collected packages: yfinance\n",
            "  Building wheel for yfinance (setup.py) ... \u001b[?25l\u001b[?25hdone\n",
            "  Created wheel for yfinance: filename=yfinance-0.1.63-py2.py3-none-any.whl size=23918 sha256=038c09d7d34d050e9a8fb9a16852ee19cf86591c54c41809736294c53d60072a\n",
            "  Stored in directory: /root/.cache/pip/wheels/fe/87/8b/7ec24486e001d3926537f5f7801f57a74d181be25b11157983\n",
            "Successfully built yfinance\n",
            "Installing collected packages: lxml, yfinance\n",
            "  Attempting uninstall: lxml\n",
            "    Found existing installation: lxml 4.2.6\n",
            "    Uninstalling lxml-4.2.6:\n",
            "      Successfully uninstalled lxml-4.2.6\n",
            "Successfully installed lxml-4.6.3 yfinance-0.1.63\n"
          ]
        }
      ]
    },
    {
      "cell_type": "code",
      "metadata": {
        "id": "xZzitBrLBTWu"
      },
      "source": [
        "import yfinance as yf #야후 파이낸스 데이터ㅜ"
      ],
      "execution_count": 3,
      "outputs": []
    },
    {
      "cell_type": "code",
      "metadata": {
        "colab": {
          "base_uri": "https://localhost:8080/",
          "height": 673
        },
        "id": "MKCirA1tBjcw",
        "outputId": "1138600e-f75a-497a-fcfc-72f9e80c5af2"
      },
      "source": [
        "# 나스닥 100\n",
        "NDX  = yf.download('NDX',\n",
        "                     start = '2007-01-01',   # 가져올 시작 날짜\n",
        "                     end = '2021-10-5',      # 가져올 끝 날짜\n",
        "                     progress = False)\n",
        "\n",
        "NDX_data = NDX[['Adj Close', 'Open', 'High', 'Low', \"Close\",\"Volume\"]].round(2)\n",
        "# 각각 수정종가, 시가, 최고가, 종가, 거래량\n",
        "\n",
        "print(\"There are\" + str(NDX_data[:\"2007\"].shape[0]) + \"observations in the training data\")\n",
        "print(\"There are\" + str(NDX_data[:\"2021\"].shape[0]) + \"observations in the training data\")\n",
        "\n",
        "NDX_data['Adj Close'].plot()\n",
        "NDX_data.shape\n",
        "NDX_data.head(10)"
      ],
      "execution_count": 4,
      "outputs": [
        {
          "output_type": "stream",
          "name": "stdout",
          "text": [
            "There are251observations in the training data\n",
            "There are3715observations in the training data\n"
          ]
        },
        {
          "output_type": "execute_result",
          "data": {
            "text/html": [
              "<div>\n",
              "<style scoped>\n",
              "    .dataframe tbody tr th:only-of-type {\n",
              "        vertical-align: middle;\n",
              "    }\n",
              "\n",
              "    .dataframe tbody tr th {\n",
              "        vertical-align: top;\n",
              "    }\n",
              "\n",
              "    .dataframe thead th {\n",
              "        text-align: right;\n",
              "    }\n",
              "</style>\n",
              "<table border=\"1\" class=\"dataframe\">\n",
              "  <thead>\n",
              "    <tr style=\"text-align: right;\">\n",
              "      <th></th>\n",
              "      <th>Adj Close</th>\n",
              "      <th>Open</th>\n",
              "      <th>High</th>\n",
              "      <th>Low</th>\n",
              "      <th>Close</th>\n",
              "      <th>Volume</th>\n",
              "    </tr>\n",
              "    <tr>\n",
              "      <th>Date</th>\n",
              "      <th></th>\n",
              "      <th></th>\n",
              "      <th></th>\n",
              "      <th></th>\n",
              "      <th></th>\n",
              "      <th></th>\n",
              "    </tr>\n",
              "  </thead>\n",
              "  <tbody>\n",
              "    <tr>\n",
              "      <th>2007-01-03</th>\n",
              "      <td>1759.37</td>\n",
              "      <td>1769.22</td>\n",
              "      <td>1793.05</td>\n",
              "      <td>1731.71</td>\n",
              "      <td>1759.37</td>\n",
              "      <td>2435280000</td>\n",
              "    </tr>\n",
              "    <tr>\n",
              "      <th>2007-01-04</th>\n",
              "      <td>1792.91</td>\n",
              "      <td>1763.15</td>\n",
              "      <td>1799.07</td>\n",
              "      <td>1757.00</td>\n",
              "      <td>1792.91</td>\n",
              "      <td>2104210000</td>\n",
              "    </tr>\n",
              "    <tr>\n",
              "      <th>2007-01-05</th>\n",
              "      <td>1785.30</td>\n",
              "      <td>1787.79</td>\n",
              "      <td>1787.79</td>\n",
              "      <td>1770.29</td>\n",
              "      <td>1785.30</td>\n",
              "      <td>2060360000</td>\n",
              "    </tr>\n",
              "    <tr>\n",
              "      <th>2007-01-08</th>\n",
              "      <td>1787.14</td>\n",
              "      <td>1786.39</td>\n",
              "      <td>1795.45</td>\n",
              "      <td>1776.99</td>\n",
              "      <td>1787.14</td>\n",
              "      <td>1905620000</td>\n",
              "    </tr>\n",
              "    <tr>\n",
              "      <th>2007-01-09</th>\n",
              "      <td>1795.63</td>\n",
              "      <td>1791.75</td>\n",
              "      <td>1802.44</td>\n",
              "      <td>1776.73</td>\n",
              "      <td>1795.63</td>\n",
              "      <td>2144160000</td>\n",
              "    </tr>\n",
              "    <tr>\n",
              "      <th>2007-01-10</th>\n",
              "      <td>1816.15</td>\n",
              "      <td>1790.51</td>\n",
              "      <td>1817.22</td>\n",
              "      <td>1784.28</td>\n",
              "      <td>1816.15</td>\n",
              "      <td>2274210000</td>\n",
              "    </tr>\n",
              "    <tr>\n",
              "      <th>2007-01-11</th>\n",
              "      <td>1834.86</td>\n",
              "      <td>1820.75</td>\n",
              "      <td>1840.88</td>\n",
              "      <td>1818.09</td>\n",
              "      <td>1834.86</td>\n",
              "      <td>2436270000</td>\n",
              "    </tr>\n",
              "    <tr>\n",
              "      <th>2007-01-12</th>\n",
              "      <td>1844.81</td>\n",
              "      <td>1832.15</td>\n",
              "      <td>1845.68</td>\n",
              "      <td>1830.34</td>\n",
              "      <td>1844.81</td>\n",
              "      <td>2175810000</td>\n",
              "    </tr>\n",
              "    <tr>\n",
              "      <th>2007-01-16</th>\n",
              "      <td>1842.44</td>\n",
              "      <td>1844.73</td>\n",
              "      <td>1847.54</td>\n",
              "      <td>1836.83</td>\n",
              "      <td>1842.44</td>\n",
              "      <td>2139550000</td>\n",
              "    </tr>\n",
              "    <tr>\n",
              "      <th>2007-01-17</th>\n",
              "      <td>1827.68</td>\n",
              "      <td>1835.05</td>\n",
              "      <td>1843.07</td>\n",
              "      <td>1824.74</td>\n",
              "      <td>1827.68</td>\n",
              "      <td>2273880000</td>\n",
              "    </tr>\n",
              "  </tbody>\n",
              "</table>\n",
              "</div>"
            ],
            "text/plain": [
              "            Adj Close     Open     High      Low    Close      Volume\n",
              "Date                                                                 \n",
              "2007-01-03    1759.37  1769.22  1793.05  1731.71  1759.37  2435280000\n",
              "2007-01-04    1792.91  1763.15  1799.07  1757.00  1792.91  2104210000\n",
              "2007-01-05    1785.30  1787.79  1787.79  1770.29  1785.30  2060360000\n",
              "2007-01-08    1787.14  1786.39  1795.45  1776.99  1787.14  1905620000\n",
              "2007-01-09    1795.63  1791.75  1802.44  1776.73  1795.63  2144160000\n",
              "2007-01-10    1816.15  1790.51  1817.22  1784.28  1816.15  2274210000\n",
              "2007-01-11    1834.86  1820.75  1840.88  1818.09  1834.86  2436270000\n",
              "2007-01-12    1844.81  1832.15  1845.68  1830.34  1844.81  2175810000\n",
              "2007-01-16    1842.44  1844.73  1847.54  1836.83  1842.44  2139550000\n",
              "2007-01-17    1827.68  1835.05  1843.07  1824.74  1827.68  2273880000"
            ]
          },
          "metadata": {},
          "execution_count": 4
        },
        {
          "output_type": "display_data",
          "data": {
            "image/png": "[encoded data removed]",
            "text/plain": [
              "<Figure size 432x288 with 1 Axes>"
            ]
          },
          "metadata": {
            "needs_background": "light"
          }
        }
      ]
    }
  ]
}