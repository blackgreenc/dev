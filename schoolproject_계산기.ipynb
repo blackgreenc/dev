{
  "nbformat": 4,
  "nbformat_minor": 0,
  "metadata": {
    "colab": {
      "name": "schoolproject-계산기.ipynb",
      "provenance": [],
      "authorship_tag": "ABX9TyOhM/3kUMQf7d5Xmxa4zCby",
      "include_colab_link": true
    },
    "kernelspec": {
      "name": "python3",
      "display_name": "Python 3"
    },
    "language_info": {
      "name": "python"
    }
  },
  "cells": [
    {
      "cell_type": "markdown",
      "metadata": {
        "id": "view-in-github",
        "colab_type": "text"
      },
      "source": [
        "<a href=\"https://colab.research.google.com/github/blackgreenc/dev/blob/main/schoolproject_%EA%B3%84%EC%82%B0%EA%B8%B0.ipynb\" target=\"_parent\"><img src=\"https://colab.research.google.com/assets/colab-badge.svg\" alt=\"Open In Colab\"/></a>"
      ]
    },
    {
      "cell_type": "code",
      "metadata": {
        "colab": {
          "base_uri": "https://localhost:8080/"
        },
        "id": "2P9e-59KvrJ8",
        "outputId": "5bdb2b8f-73a2-40ab-b55c-ef4e2edbb44d"
      },
      "source": [
        "a,b = map(int, input().split())\n",
        "\n",
        "operator = input()\n",
        "\n",
        "if(operator == '+'):\n",
        "    print(a , \"+\", b , '=', a+b)\n",
        "elif(operator == '-'):\n",
        "    print(a , \"-\", b , '=', a-b)\n",
        "elif(operator == '*'):\n",
        "    print(a , \"*\", b , '=', a*b)\n",
        "elif(operator == '/'):\n",
        "    print(a , \"/\", b , '=', a/b)\n",
        "elif(operator == '%'):\n",
        "    print(a , \"%\", b , '=', a%b)\n",
        "    "
      ],
      "execution_count": 1,
      "outputs": [
        {
          "output_type": "stream",
          "name": "stdout",
          "text": [
            "1 2\n",
            "+\n",
            "1 + 2 = 3\n"
          ]
        }
      ]
    }
  ]
}