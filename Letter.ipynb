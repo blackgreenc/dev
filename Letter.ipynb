{
  "nbformat": 4,
  "nbformat_minor": 0,
  "metadata": {
    "colab": {
      "name": "Letter",
      "provenance": [],
      "authorship_tag": "ABX9TyN8fLw6Dcc87iEGClmr2Tn0",
      "include_colab_link": true
    },
    "kernelspec": {
      "name": "python3",
      "display_name": "Python 3"
    },
    "language_info": {
      "name": "python"
    }
  },
  "cells": [
    {
      "cell_type": "markdown",
      "metadata": {
        "id": "view-in-github",
        "colab_type": "text"
      },
      "source": [
        "<a href=\"https://colab.research.google.com/github/blackgreenc/dev/blob/main/Letter.ipynb\" target=\"_parent\"><img src=\"https://colab.research.google.com/assets/colab-badge.svg\" alt=\"Open In Colab\"/></a>"
      ]
    },
    {
      "cell_type": "code",
      "metadata": {
        "colab": {
          "base_uri": "https://localhost:8080/"
        },
        "id": "kQbV58gWaWcx",
        "outputId": "82ff9586-f86d-441d-d098-72e1c995a4f0"
      },
      "source": [
        "# 은영은영쌤\n",
        "import 정성 as 손편지\n",
        "\n",
        "print(\"은영쌤, 경민이가 자바로 쓰길래 전 파이썬으로 해볼게요.\")\n",
        "print(\"먼저, 수업시간에 뻗어있어서 죄송합니다.\") # 요즘은 안자려고 노력해요.\n",
        "print(\"그리고, 야근하시는거 좋아해서 죄송합니다\")\n",
        "\n",
        "for i in range(0,5):\n",
        "    print(\"야근\") # 다음주 야근하는 날\n",
        "\n",
        "print(\"그래도, 잘 가르쳐주셔서 감사합니다.\")\n",
        "print(\"고등학교 첫 담임쌤이신데, 저랑 친구들이 자주 찾아가서 질문하고, \")\n",
        "print(\"이것저것 프린트해 달라고 해도, 다 열심히 답해주시고, 뽑아주셔서 감사합니다.\")\n",
        "print(\"지금까지 이렇게 열심히 해주시는 쌤은 은영쌤이 처음이에요.\")\n",
        "print(\"내년에도 담임쌤해주세요.\")\n",
        "\n",
        "\n",
        "\n",
        "\n",
        "# 1317 차주형"
      ],
      "execution_count": 1,
      "outputs": [
        {
          "output_type": "stream",
          "name": "stdout",
          "text": [
            "은영쌤, 경민이가 자바로 쓰길래 전 파이썬으로 해볼게요.\n",
            "먼저, 수업시간에 뻗어있어서 죄송합니다.\n",
            "그리고, 야근하시는거 좋아해서 죄송합니다\n",
            "야근\n",
            "야근\n",
            "야근\n",
            "야근\n",
            "야근\n",
            "그래도, 잘 가르쳐주셔서 감사합니다.\n",
            "고등학교 첫 담임쌤이신데, 저랑 친구들이 자주 찾아가서 질문하고, \n",
            "이것저것 프린트해 달라고 해도, 다 열심히 답해주시고, 뽑아주셔서 감사합니다.\n",
            "지금까지 이렇게 열심히 해주시는 쌤은 은영쌤이 처음이에요.\n",
            "내년에도 담임쌤해주세요.\n"
          ]
        }
      ]
    }
  ]
}